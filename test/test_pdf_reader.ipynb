{
 "cells": [
  {
   "cell_type": "code",
   "execution_count": 1,
   "metadata": {},
   "outputs": [],
   "source": [
    "import os\n",
    "import re\n",
    "import random\n",
    "import PyPDF2\n",
    "import itertools\n",
    "from helper import config"
   ]
  },
  {
   "cell_type": "code",
   "execution_count": 2,
   "metadata": {},
   "outputs": [],
   "source": [
    "def convert_pdf_to_txt(path_to_pdf: str, path_to_output: str):\n",
    "    # Open the PDF file\n",
    "    with open(path_to_pdf, 'rb') as pdf_file:\n",
    "        pdf = PyPDF2.PdfReader(pdf_file)\n",
    "        \n",
    "        print('Path to PDF:', path_to_pdf)\n",
    "        print('Number of pages in PDF:', len(pdf.pages))\n",
    "        \n",
    "        # Initialize a single string to hold all text\n",
    "        all_text = \"\"\n",
    "        \n",
    "        # Iterate through all pages and extract text\n",
    "        for page in pdf.pages:\n",
    "            text = page.extract_text()\n",
    "            if text:  # Check if the page has any text\n",
    "                all_text += text.strip() + \"\\n\"  # Add a newline between pages\n",
    "        \n",
    "        # Write the combined text to the output file\n",
    "        with open(path_to_output, \"w\", encoding=\"utf-8\") as file:\n",
    "            file.write(all_text)"
   ]
  },
  {
   "cell_type": "code",
   "execution_count": 3,
   "metadata": {},
   "outputs": [],
   "source": [
    "def parse_dialogues(file_path: str):\n",
    "    dialogues = []  # List to store parsed dialogue tuples (name, text)\n",
    "    current_speaker = None\n",
    "    current_text = []\n",
    "    \n",
    "    with open(file_path, 'r', encoding='utf-8') as file:\n",
    "        for line in file:\n",
    "            line = line.strip()  # Remove surrounding whitespace\n",
    "            \n",
    "            if line.isupper():  # Check if the line is all uppercase\n",
    "                # Save the previous dialogue if it exists\n",
    "                if current_speaker and current_text:\n",
    "                    dialogues.append((current_speaker, \" \".join(current_text)))\n",
    "                # Start a new dialogue\n",
    "                current_speaker = line\n",
    "                current_text = []\n",
    "            elif line:  # If the line is not empty, add it to the current text\n",
    "                current_text.append(line)\n",
    "        \n",
    "        # Add the last dialogue block after exiting the loop\n",
    "        if current_speaker and current_text:\n",
    "            dialogues.append((current_speaker, \" \".join(current_text)))\n",
    "    \n",
    "    return dialogues\n"
   ]
  },
  {
   "cell_type": "code",
   "execution_count": 4,
   "metadata": {},
   "outputs": [],
   "source": [
    "import json\n",
    "\n",
    "def conevrt_to_jsonl(file_path: str, main_character: str):\n",
    "    dialogues = parse_dialogues(file_path)\n",
    "    \n",
    "    # Open the output file\n",
    "    with open(f'./{main_character}_lines.jsonl', 'w', newline='', encoding='utf-8') as outfile:\n",
    "        i = 0\n",
    "        while i < len(dialogues):\n",
    "            messages = []\n",
    "\n",
    "            # Add system message\n",
    "            messages.append({\n",
    "                'role': 'system',\n",
    "                'content': 'You are Patrick Bateman, a narcissist working on Wall Street as a stockbroker at Pierce & Pierce.'\n",
    "            })\n",
    "\n",
    "            # Check if current dialogue belongs to main character\n",
    "            if dialogues[i][0].startswith(f'{main_character}'):\n",
    "                # Include previous line if not from the main character\n",
    "                if i > 0 and not dialogues[i-1][0].startswith(f'{main_character}'):\n",
    "                    messages.append({\n",
    "                        \"role\": \"user\",\n",
    "                        \"content\": dialogues[i - 1][1] + \" <EOS>\"\n",
    "                    })\n",
    "                \n",
    "                # Collect dialogue block\n",
    "                while i < len(dialogues) and dialogues[i][0].startswith(f'{main_character}'):\n",
    "                    messages.append({\n",
    "                        \"role\": \"assistant\",\n",
    "                        \"content\": dialogues[i][1] + \" <EOS>\"\n",
    "                    })\n",
    "                    i += 1\n",
    "\n",
    "                # Write to JSONL\n",
    "                jsonl_entry = {\"messages\": messages}\n",
    "                outfile.write(json.dumps(jsonl_entry) + \"\\n\")\n",
    "            else:\n",
    "                i += 1"
   ]
  },
  {
   "cell_type": "code",
   "execution_count": 5,
   "metadata": {},
   "outputs": [],
   "source": [
    "conevrt_to_jsonl('movies/manual/american_psycho.txt', 'BATEMAN')"
   ]
  }
 ],
 "metadata": {
  "kernelspec": {
   "display_name": "llm",
   "language": "python",
   "name": "python3"
  },
  "language_info": {
   "codemirror_mode": {
    "name": "ipython",
    "version": 3
   },
   "file_extension": ".py",
   "mimetype": "text/x-python",
   "name": "python",
   "nbconvert_exporter": "python",
   "pygments_lexer": "ipython3",
   "version": "3.12.7"
  }
 },
 "nbformat": 4,
 "nbformat_minor": 2
}
