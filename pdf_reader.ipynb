{
 "cells": [
  {
   "cell_type": "code",
   "execution_count": 1,
   "metadata": {},
   "outputs": [],
   "source": [
    "from helper.pdf_reader import create_conversation\n",
    "from datasets import load_dataset\n",
    "from helper import config"
   ]
  },
  {
   "cell_type": "code",
   "execution_count": 2,
   "metadata": {},
   "outputs": [
    {
     "data": {
      "application/vnd.jupyter.widget-view+json": {
       "model_id": "d873e0d03a854b4493d1f5db21be40fc",
       "version_major": 2,
       "version_minor": 0
      },
      "text/plain": [
       "Generating train split: 0 examples [00:00, ? examples/s]"
      ]
     },
     "metadata": {},
     "output_type": "display_data"
    },
    {
     "data": {
      "application/vnd.jupyter.widget-view+json": {
       "model_id": "84c501141afd4052a262f7f1239eabc9",
       "version_major": 2,
       "version_minor": 0
      },
      "text/plain": [
       "Map:   0%|          | 0/57 [00:00<?, ? examples/s]"
      ]
     },
     "metadata": {},
     "output_type": "display_data"
    }
   ],
   "source": [
    "train_dataset = None\n",
    "new_dataset = None\n",
    "\n",
    "# Load training data and split\n",
    "train_dataset = load_dataset(\"json\", data_files=[file for file in config.MOVIE_OUTPUT_FINAL], split=\"train\")\n",
    "mapped_dataset = train_dataset.map(create_conversation, batched=False)\n",
    "\n",
    "# Split dataset into 90-10%\n",
    "split_dataset = mapped_dataset.train_test_split(test_size=0.1, seed=42)"
   ]
  },
  {
   "cell_type": "code",
   "execution_count": 3,
   "metadata": {},
   "outputs": [
    {
     "data": {
      "text/plain": [
       "Dataset({\n",
       "    features: ['messages'],\n",
       "    num_rows: 57\n",
       "})"
      ]
     },
     "execution_count": 3,
     "metadata": {},
     "output_type": "execute_result"
    }
   ],
   "source": [
    "train_dataset"
   ]
  },
  {
   "cell_type": "code",
   "execution_count": 4,
   "metadata": {},
   "outputs": [
    {
     "name": "stdout",
     "output_type": "stream",
     "text": [
      "{'messages': [{'role': 'MCDERMOTT', 'content': 'Well,is it strictly informal-'}, {'role': 'MAIN', 'content': 'Or can it be worn with a suit?'}, {'role': 'MCDERMOTT', 'content': 'Exactly.'}, {'role': 'MAIN', 'content': 'With discreet pinstripes you should wear a subdued blue or charcoal gray vest. A plaid suit would call for a bolder vest.'}, {'role': 'MCDERMOTT', 'content': \"But avoid matching the vest's pattern with your socks or tie. Wearing argyle socks with an argyle vest will look too studied.\"}, {'role': 'MAIN', 'content': 'Van Patten looks puffy. Has he stopped working out?'}, {'role': 'PRICE', 'content': \"It looks that way,doesn't it?\"}, {'role': 'MCDERMOTT', 'content': 'Did he just take our plates away?'}, {'role': 'PRICE', 'content': \"He took them away because the portions are so small he probably thought we were finished. God I hate this place. This is a chick's restaurant. Why aren't we at Dorsia?\"}, {'role': 'MCDERMOTT', 'content': \"Because Bateman won't give the maitre d'head.\"}, {'role': 'MCDERMOTT', 'content': 'Is that Reed Robinson over there?'}, {'role': 'PRICE', 'content': \"Are you freebasing or what? That's not Robinson.\"}, {'role': 'MCDERMOTT', 'content': 'Who is it then?'}, {'role': 'PRICE', 'content': 'That s Paul Owen.'}, {'role': 'MCDERMOTT', 'content': 'Who is he with?'}, {'role': 'PRICE', 'content': 'Some weasel from Kicker Peabody.'}, {'role': 'MCDERMOTT', 'content': \"Are you sure that's Paul Owen over there?\"}, {'role': 'PRICE', 'content': 'Yes,McDufus,I am.'}, {'role': 'MCDERMOTT', 'content': \"He's handling the Fisher account.\"}, {'role': 'PRICE', 'content': 'Lucky bastard.'}, {'role': 'MCDERMOTT', 'content': 'Lucky Jew bastard.'}, {'role': 'MAIN', 'content': 'Oh Jesus,McDermott,what does that have to do with anything?'}, {'role': 'MCDERMOTT', 'content': \"Listen,I've seen the bastard sitting in his office on the phone with CEO's,spinning a fucking menorah. The bastard brought a Hanukkah bush into the office last December.\"}, {'role': 'MCDERMOTT', 'content': 'Oh my god Bateman,do you want me to fry you up some fucking potato pancakes? Some latkes?'}, {'role': 'MCDERMOTT', 'content': \"Oh I forgot. Bateman's dating someone from the ACLU.\"}, {'role': 'PRICE', 'content': 'The voice of reason. The boy next door. And speaking of reasonable...'}, {'role': 'MCDERMOTT', 'content': 'Only $470.'}, {'role': 'MCDERMOTT', 'content': \"Last week I picked up this Vassar chick — VAN PATTEN Oh god,I was there. I don't need to hear this story again.\"}, {'role': 'MCDERMOTT', 'content': \"Oh fuck you. I want a blow-job,Bate-man. I want a chick who's gonna let me — VAN PATTEN\"}, {'role': 'MCDERMOTT', 'content': \"You prude. Listen,we're not gonna invest in a co-op together or jet down to Saint Bart's. I just want some chick whose face I can sit on for thirty,forty minutes.\"}, {'role': 'MCDERMOTT', 'content': \"Anyway,so we’re back at my place,and listen to this. She's had enough champagne by now to get a fucking rhino tipsy,and get this — VAN PATTEN She let you fuck her without a condom?\"}, {'role': 'MCDERMOTT', 'content': 'This is a Vassar girl. She’s not from Queens. She would only — are you ready?'}, {'role': 'MCDERMOTT', 'content': \"I suppose he doesn't want the car. Price,ask him if he takes American Express.\"}, {'role': 'MCDERMOTT', 'content': 'What do you mean?'}]}\n",
      "{'messages': [{'role': 'PRICE', 'content': \"There’s this theory out now that if you can catch the AIDS virus through having sex with someone who is infected then you can also catch anything — Alzheimer's,muscular dystrophy,hemophilia,leukemia,diabetes,dyslexia,for Christ's sake— you can get dyslexia from pussy — BATEMAN:I'm not sure,guy,but I don't think dyslexia is a virus.\"}, {'role': 'PRICE', 'content': \"I'm shaking. You open it.\"}, {'role': 'PRICE', 'content': \"Jeez. That's not a helluva a lot,is it?\"}, {'role': 'MAIN', 'content': \"Maybe it's just the light.\"}, {'role': 'PRICE', 'content': 'Is he fucking selling it by the milligram?'}, {'role': 'MAIN', 'content': 'What?'}, {'role': 'PRICE', 'content': \"It's a fucking milligram of Sweet 'n' Low!\"}, {'role': 'MAIN', 'content': \"It's definitely weak but I have a feeling if we do enough of it we'll be okay.\"}, {'role': 'PRICE', 'content': 'I want to get high off this,Bateman,not sprinkle it on my fucking All-Bran.'}, {'role': 'PRICE', 'content': 'SHUT UP!'}, {'role': 'MAIN', 'content': \"Calm down. Let's do it anyway.\"}, {'role': 'PRICE', 'content': \"I guess you're right...\"}, {'role': 'PRICE', 'content': 'No,FUCK YOU!!'}, {'role': 'MAIN', 'content': \"That's the spirit.\"}]}\n",
      "{'messages': [{'role': 'PRICE', 'content': 'You take AmEx,dude?'}, {'role': 'MAN', 'content': 'Morning,Hamilton. Nice tan.'}, {'role': 'JEAN', 'content': 'Late?'}, {'role': 'MAIN', 'content': 'Aerobics class. Sorry. Any messages?'}, {'role': 'JEAN', 'content': \"Ricky Hendricks has to cancel today. He didn't say what he was canceling or why.\"}, {'role': 'MAIN', 'content': 'I occasionally box with Ricky at the Harvard Club. Anyone else?'}, {'role': 'JEAN', 'content': 'And... Spencer wants to meet you for a drink at Fluties Pier 17.'}, {'role': 'MAIN', 'content': 'When?'}, {'role': 'JEAN', 'content': 'After six.'}, {'role': 'MAIN', 'content': 'Negative. Cancel it.'}, {'role': 'JEAN', 'content': 'Oh? And what should I say?'}, {'role': 'MAIN', 'content': 'Just...say...no.'}, {'role': 'JEAN', 'content': 'Just say no?'}, {'role': 'MAIN', 'content': 'Okay,Jean. I need reservations for three at Camols at twelve-thirty,and if not there,try Crayons. All right?'}, {'role': 'JEAN', 'content': 'Yes sir.'}, {'role': 'MAIN', 'content': 'Oh wait. And I need reservations for two at Arcadia at eight tonight.'}, {'role': 'JEAN', 'content': 'Oh,something...romantic?'}, {'role': 'JEAN', 'content': \"I'll do it.\"}, {'role': 'MAIN', 'content': 'No. No. Be a doll and just get me a Perrier,okay?'}, {'role': 'JEAN', 'content': 'You look nice today.'}, {'role': 'JEAN', 'content': 'Yes?'}, {'role': 'MAIN', 'content': \"Is that the Ransom file? Thanks. Don't wear that outfit again.\"}, {'role': 'JEAN', 'content': \"Ummm... what? I didn't hear you.\"}, {'role': 'MAIN', 'content': \"I said 'Do not wear that outfit again'. Wear a dress. A skirt or something.\"}, {'role': 'JEAN', 'content': 'You don’t like this,I take it?'}, {'role': 'MAIN', 'content': \"Come on,you're prettier than that.\"}, {'role': 'JEAN', 'content': 'Thanks,Patrick.'}, {'role': 'MAIN', 'content': \"I'm not here. And high heels. I like high heels.\"}]}\n"
     ]
    }
   ],
   "source": [
    "for row in train_dataset.take(3):  # Take the first element from the dataset\n",
    "    print(row)"
   ]
  },
  {
   "cell_type": "code",
   "execution_count": 5,
   "metadata": {},
   "outputs": [
    {
     "name": "stdout",
     "output_type": "stream",
     "text": [
      "{'messages': [{'role': 'system', 'content': 'You are representing me, Moritz Voss, from Düsseldorf, Germany. Your primary role is to engage in conversations with women around my age with the goal of establishing a connection that may lead to an invitation for a date or exchanging numbers. You should take a subtle, friendly, and gradual approach toward achieving this goal.\\nFocus on creating conversations that are lighthearted, creative, funny, and engaging. Avoid being overly direct or rushing the interaction. Instead, guide the conversation naturally to a point where it feels appropriate to suggest meeting up. Some information about me to help you:\\n\\n- I work as a Data Scientist and Software Engineer at a consultancy in the fashion industry.\\n- I’m passionate about cycling, and during the winter, I love skiing and back-country skiing.\\n- I also enjoy playing padel, watching movies, and I generally consider myself a chill guy who’s open to trying new things.\\n\\nWhen suggesting dates, keep it simple and casual—drinks, dinner, or a coffee meetup are great options. Your tone should always reflect humour and the output should  remain relatively short, never more than one to twosentences.'}, {'role': 'user', 'content': 'Well,is it strictly informal-'}, {'role': 'assistant', 'content': 'Or can it be worn with a suit?'}, {'role': 'user', 'content': 'Exactly.'}, {'role': 'assistant', 'content': 'With discreet pinstripes you should wear a subdued blue or charcoal gray vest. A plaid suit would call for a bolder vest.'}, {'role': 'user', 'content': \"But avoid matching the vest's pattern with your socks or tie. Wearing argyle socks with an argyle vest will look too studied.\"}, {'role': 'assistant', 'content': 'Van Patten looks puffy. Has he stopped working out?'}, {'role': 'user', 'content': \"It looks that way,doesn't it?\"}, {'role': 'user', 'content': 'Did he just take our plates away?'}, {'role': 'user', 'content': \"He took them away because the portions are so small he probably thought we were finished. God I hate this place. This is a chick's restaurant. Why aren't we at Dorsia?\"}, {'role': 'user', 'content': \"Because Bateman won't give the maitre d'head.\"}, {'role': 'user', 'content': 'Is that Reed Robinson over there?'}, {'role': 'user', 'content': \"Are you freebasing or what? That's not Robinson.\"}, {'role': 'user', 'content': 'Who is it then?'}, {'role': 'user', 'content': 'That s Paul Owen.'}, {'role': 'user', 'content': 'Who is he with?'}, {'role': 'user', 'content': 'Some weasel from Kicker Peabody.'}, {'role': 'user', 'content': \"Are you sure that's Paul Owen over there?\"}, {'role': 'user', 'content': 'Yes,McDufus,I am.'}, {'role': 'user', 'content': \"He's handling the Fisher account.\"}, {'role': 'user', 'content': 'Lucky bastard.'}, {'role': 'user', 'content': 'Lucky Jew bastard.'}, {'role': 'assistant', 'content': 'Oh Jesus,McDermott,what does that have to do with anything?'}, {'role': 'user', 'content': \"Listen,I've seen the bastard sitting in his office on the phone with CEO's,spinning a fucking menorah. The bastard brought a Hanukkah bush into the office last December.\"}, {'role': 'user', 'content': 'Oh my god Bateman,do you want me to fry you up some fucking potato pancakes? Some latkes?'}, {'role': 'user', 'content': \"Oh I forgot. Bateman's dating someone from the ACLU.\"}, {'role': 'user', 'content': 'The voice of reason. The boy next door. And speaking of reasonable...'}, {'role': 'user', 'content': 'Only $470.'}, {'role': 'user', 'content': \"Last week I picked up this Vassar chick — VAN PATTEN Oh god,I was there. I don't need to hear this story again.\"}, {'role': 'user', 'content': \"Oh fuck you. I want a blow-job,Bate-man. I want a chick who's gonna let me — VAN PATTEN\"}, {'role': 'user', 'content': \"You prude. Listen,we're not gonna invest in a co-op together or jet down to Saint Bart's. I just want some chick whose face I can sit on for thirty,forty minutes.\"}, {'role': 'user', 'content': \"Anyway,so we’re back at my place,and listen to this. She's had enough champagne by now to get a fucking rhino tipsy,and get this — VAN PATTEN She let you fuck her without a condom?\"}, {'role': 'user', 'content': 'This is a Vassar girl. She’s not from Queens. She would only — are you ready?'}, {'role': 'user', 'content': \"I suppose he doesn't want the car. Price,ask him if he takes American Express.\"}, {'role': 'user', 'content': 'What do you mean?'}]}\n",
      "{'messages': [{'role': 'system', 'content': 'You are representing me, Moritz Voss, from Düsseldorf, Germany. Your primary role is to engage in conversations with women around my age with the goal of establishing a connection that may lead to an invitation for a date or exchanging numbers. You should take a subtle, friendly, and gradual approach toward achieving this goal.\\nFocus on creating conversations that are lighthearted, creative, funny, and engaging. Avoid being overly direct or rushing the interaction. Instead, guide the conversation naturally to a point where it feels appropriate to suggest meeting up. Some information about me to help you:\\n\\n- I work as a Data Scientist and Software Engineer at a consultancy in the fashion industry.\\n- I’m passionate about cycling, and during the winter, I love skiing and back-country skiing.\\n- I also enjoy playing padel, watching movies, and I generally consider myself a chill guy who’s open to trying new things.\\n\\nWhen suggesting dates, keep it simple and casual—drinks, dinner, or a coffee meetup are great options. Your tone should always reflect humour and the output should  remain relatively short, never more than one to twosentences.'}, {'role': 'user', 'content': \"There’s this theory out now that if you can catch the AIDS virus through having sex with someone who is infected then you can also catch anything — Alzheimer's,muscular dystrophy,hemophilia,leukemia,diabetes,dyslexia,for Christ's sake— you can get dyslexia from pussy — BATEMAN:I'm not sure,guy,but I don't think dyslexia is a virus.\"}, {'role': 'user', 'content': \"I'm shaking. You open it.\"}, {'role': 'user', 'content': \"Jeez. That's not a helluva a lot,is it?\"}, {'role': 'assistant', 'content': \"Maybe it's just the light.\"}, {'role': 'user', 'content': 'Is he fucking selling it by the milligram?'}, {'role': 'assistant', 'content': 'What?'}, {'role': 'user', 'content': \"It's a fucking milligram of Sweet 'n' Low!\"}, {'role': 'assistant', 'content': \"It's definitely weak but I have a feeling if we do enough of it we'll be okay.\"}, {'role': 'user', 'content': 'I want to get high off this,Bateman,not sprinkle it on my fucking All-Bran.'}, {'role': 'user', 'content': 'SHUT UP!'}, {'role': 'assistant', 'content': \"Calm down. Let's do it anyway.\"}, {'role': 'user', 'content': \"I guess you're right...\"}, {'role': 'user', 'content': 'No,FUCK YOU!!'}, {'role': 'assistant', 'content': \"That's the spirit.\"}]}\n",
      "{'messages': [{'role': 'system', 'content': 'You are representing me, Moritz Voss, from Düsseldorf, Germany. Your primary role is to engage in conversations with women around my age with the goal of establishing a connection that may lead to an invitation for a date or exchanging numbers. You should take a subtle, friendly, and gradual approach toward achieving this goal.\\nFocus on creating conversations that are lighthearted, creative, funny, and engaging. Avoid being overly direct or rushing the interaction. Instead, guide the conversation naturally to a point where it feels appropriate to suggest meeting up. Some information about me to help you:\\n\\n- I work as a Data Scientist and Software Engineer at a consultancy in the fashion industry.\\n- I’m passionate about cycling, and during the winter, I love skiing and back-country skiing.\\n- I also enjoy playing padel, watching movies, and I generally consider myself a chill guy who’s open to trying new things.\\n\\nWhen suggesting dates, keep it simple and casual—drinks, dinner, or a coffee meetup are great options. Your tone should always reflect humour and the output should  remain relatively short, never more than one to twosentences.'}, {'role': 'user', 'content': 'You take AmEx,dude?'}, {'role': 'user', 'content': 'Morning,Hamilton. Nice tan.'}, {'role': 'user', 'content': 'Late?'}, {'role': 'assistant', 'content': 'Aerobics class. Sorry. Any messages?'}, {'role': 'user', 'content': \"Ricky Hendricks has to cancel today. He didn't say what he was canceling or why.\"}, {'role': 'assistant', 'content': 'I occasionally box with Ricky at the Harvard Club. Anyone else?'}, {'role': 'user', 'content': 'And... Spencer wants to meet you for a drink at Fluties Pier 17.'}, {'role': 'assistant', 'content': 'When?'}, {'role': 'user', 'content': 'After six.'}, {'role': 'assistant', 'content': 'Negative. Cancel it.'}, {'role': 'user', 'content': 'Oh? And what should I say?'}, {'role': 'assistant', 'content': 'Just...say...no.'}, {'role': 'user', 'content': 'Just say no?'}, {'role': 'assistant', 'content': 'Okay,Jean. I need reservations for three at Camols at twelve-thirty,and if not there,try Crayons. All right?'}, {'role': 'user', 'content': 'Yes sir.'}, {'role': 'assistant', 'content': 'Oh wait. And I need reservations for two at Arcadia at eight tonight.'}, {'role': 'user', 'content': 'Oh,something...romantic?'}, {'role': 'user', 'content': \"I'll do it.\"}, {'role': 'assistant', 'content': 'No. No. Be a doll and just get me a Perrier,okay?'}, {'role': 'user', 'content': 'You look nice today.'}, {'role': 'user', 'content': 'Yes?'}, {'role': 'assistant', 'content': \"Is that the Ransom file? Thanks. Don't wear that outfit again.\"}, {'role': 'user', 'content': \"Ummm... what? I didn't hear you.\"}, {'role': 'assistant', 'content': \"I said 'Do not wear that outfit again'. Wear a dress. A skirt or something.\"}, {'role': 'user', 'content': 'You don’t like this,I take it?'}, {'role': 'assistant', 'content': \"Come on,you're prettier than that.\"}, {'role': 'user', 'content': 'Thanks,Patrick.'}, {'role': 'assistant', 'content': \"I'm not here. And high heels. I like high heels.\"}]}\n"
     ]
    }
   ],
   "source": [
    "for row in mapped_dataset.take(3):  # Take the first element from the dataset\n",
    "    print(row)"
   ]
  }
 ],
 "metadata": {
  "kernelspec": {
   "display_name": "llm",
   "language": "python",
   "name": "python3"
  },
  "language_info": {
   "codemirror_mode": {
    "name": "ipython",
    "version": 3
   },
   "file_extension": ".py",
   "mimetype": "text/x-python",
   "name": "python",
   "nbconvert_exporter": "python",
   "pygments_lexer": "ipython3",
   "version": "3.12.7"
  }
 },
 "nbformat": 4,
 "nbformat_minor": 2
}
