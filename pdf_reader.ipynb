{
 "cells": [
  {
   "cell_type": "code",
   "execution_count": 1,
   "metadata": {},
   "outputs": [],
   "source": [
    "from helper.pdf_reader import read_pdf, convert_txt_to_json"
   ]
  },
  {
   "cell_type": "code",
   "execution_count": 2,
   "metadata": {},
   "outputs": [],
   "source": [
    "main_characters = {\n",
    "    'movie_scripts/american_psycho.pdf': 'BATEMAN',\n",
    "    'movie_scripts/no_time_to_die.pdf': 'BOND',\n",
    "    'movie_scripts/top_gun_maverick.pdf': 'MAVERICK',\n",
    "    'movie_scripts/wedding_crashers.pdf': 'JOHN',\n",
    "}\n",
    "\n",
    "# Did not  work:\n",
    "# 'movie_scripts/friends_with_benefits.pdf': 'DYLAN',\n",
    "# 'movie_scripts/la_la_land.pdf': 'SEBASTIAN',\n",
    "# 'movie_scripts/no_strings_attached.pdf': 'ADAM',\n",
    "# 'movie_scripts/specter.pdf': 'BOND',\n"
   ]
  },
  {
   "cell_type": "code",
   "execution_count": null,
   "metadata": {},
   "outputs": [],
   "source": [
    "movie_output = [\n",
    "    './output/raw_scripts/american_psycho.txt',\n",
    "    './output/raw_scripts/no_time_to_die.txt',\n",
    "    './output/raw_scripts/top_gun_maverick.txt',\n",
    "    './output/raw_scripts/wedding_crashers.txt',\n",
    "]"
   ]
  },
  {
   "cell_type": "code",
   "execution_count": null,
   "metadata": {},
   "outputs": [],
   "source": [
    "for movie in movie_output:\n",
    "    convert_txt_to_json(movie, './output/prelim_scripts/automatic')"
   ]
  }
 ],
 "metadata": {
  "kernelspec": {
   "display_name": "llm",
   "language": "python",
   "name": "python3"
  },
  "language_info": {
   "codemirror_mode": {
    "name": "ipython",
    "version": 3
   },
   "file_extension": ".py",
   "mimetype": "text/x-python",
   "name": "python",
   "nbconvert_exporter": "python",
   "pygments_lexer": "ipython3",
   "version": "3.12.7"
  }
 },
 "nbformat": 4,
 "nbformat_minor": 2
}
