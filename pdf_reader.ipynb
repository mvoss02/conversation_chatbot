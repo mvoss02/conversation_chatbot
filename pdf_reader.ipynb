{
 "cells": [
  {
   "cell_type": "code",
   "execution_count": 1,
   "metadata": {},
   "outputs": [],
   "source": [
    "import PyPDF2\n",
    "import regex as re"
   ]
  },
  {
   "cell_type": "code",
   "execution_count": 2,
   "metadata": {},
   "outputs": [
    {
     "name": "stderr",
     "output_type": "stream",
     "text": [
      "incorrect startxref pointer(3)\n"
     ]
    }
   ],
   "source": [
    "pdf = open('movie_scripts/No Time To Die.pdf', 'rb')\n",
    "pdf = PyPDF2.PdfReader(pdf)"
   ]
  },
  {
   "cell_type": "code",
   "execution_count": 3,
   "metadata": {},
   "outputs": [
    {
     "name": "stdout",
     "output_type": "stream",
     "text": [
      "Number of pages of pdf: 146\n"
     ]
    }
   ],
   "source": [
    "print('Number of pages of pdf:', len(pdf.pages))"
   ]
  },
  {
   "cell_type": "code",
   "execution_count": 4,
   "metadata": {},
   "outputs": [],
   "source": [
    "single_page = pdf.pages[11]"
   ]
  },
  {
   "cell_type": "code",
   "execution_count": 5,
   "metadata": {},
   "outputs": [],
   "source": [
    "text = single_page.extract_text()"
   ]
  },
  {
   "cell_type": "code",
   "execution_count": 6,
   "metadata": {},
   "outputs": [
    {
     "data": {
      "text/plain": [
       "'                                                     11.MADELEINE\\nHome.\\nEXT. GRAVINA DI PUGLIA BRIDGE - EARLY MORNING 25 25\\nAs Bond crosses the ancient bridge spanning a deep ravine, a \\nsmall group of WIDOWED WOMEN veiled in black pass by.\\nBond looks up to an acropolis silhouetted in the morning sun.\\nEXT. ACROPOLIS, KIOSK - MORNING 26 26\\nBond approaches the kiosk.\\nBOND\\nBuongiorno. La tombe del Lynd (Good \\nmorning. Lynd plot, please).\\nAn OLD MAN, the caretaker, steps out to meet Bond. He barks \\nat a YOUNG BOY.\\nOLD MAN\\n(in dialect)\\nTake him to the Lynd grave.\\nThe boy waves to Bond to follow him.\\nBOY\\n(in dialect)\\nCome.\\nEXT. ACROPOLIS - MORNING 27 27\\nThe boy guides Bond to Vesper’s grave then hustles off \\nleaving Bond alone to face:\\nCU on a portrait of a beautiful WOMAN, dark hair, pale skin, \\nlight eyes: VESPER LYND 1983-2006.\\nThe image stings his eyes.\\nBOND\\nI miss you.\\nHe takes a piece of paper out of his pocket and lights it on \\nfire with a lighter. We see what he has written: Forgive Me. \\nThe embers fall to the ground.\\nThen...                                                     11.'"
      ]
     },
     "execution_count": 6,
     "metadata": {},
     "output_type": "execute_result"
    }
   ],
   "source": [
    "text"
   ]
  },
  {
   "cell_type": "code",
   "execution_count": 7,
   "metadata": {},
   "outputs": [],
   "source": [
    "# Step 1: Remove text within parentheses\n",
    "text_no_parentheses = re.sub(r\"\\([^)]*\\)\", \"\", text)"
   ]
  },
  {
   "cell_type": "code",
   "execution_count": 8,
   "metadata": {},
   "outputs": [
    {
     "data": {
      "text/plain": [
       "'                                                     11.MADELEINE\\nHome.\\nEXT. GRAVINA DI PUGLIA BRIDGE - EARLY MORNING 25 25\\nAs Bond crosses the ancient bridge spanning a deep ravine, a \\nsmall group of WIDOWED WOMEN veiled in black pass by.\\nBond looks up to an acropolis silhouetted in the morning sun.\\nEXT. ACROPOLIS, KIOSK - MORNING 26 26\\nBond approaches the kiosk.\\nBOND\\nBuongiorno. La tombe del Lynd .\\nAn OLD MAN, the caretaker, steps out to meet Bond. He barks \\nat a YOUNG BOY.\\nOLD MAN\\n\\nTake him to the Lynd grave.\\nThe boy waves to Bond to follow him.\\nBOY\\n\\nCome.\\nEXT. ACROPOLIS - MORNING 27 27\\nThe boy guides Bond to Vesper’s grave then hustles off \\nleaving Bond alone to face:\\nCU on a portrait of a beautiful WOMAN, dark hair, pale skin, \\nlight eyes: VESPER LYND 1983-2006.\\nThe image stings his eyes.\\nBOND\\nI miss you.\\nHe takes a piece of paper out of his pocket and lights it on \\nfire with a lighter. We see what he has written: Forgive Me. \\nThe embers fall to the ground.\\nThen...                                                     11.'"
      ]
     },
     "execution_count": 8,
     "metadata": {},
     "output_type": "execute_result"
    }
   ],
   "source": [
    "text_no_parentheses"
   ]
  },
  {
   "cell_type": "code",
   "execution_count": 9,
   "metadata": {},
   "outputs": [],
   "source": [
    "# Step 2: Replace character names surrounded by newlines with <NAME>\n",
    "text_with_names = re.sub(r'(?<=\\n)([A-Z]+)(?=\\n)', r'<\\1>', text_no_parentheses)"
   ]
  },
  {
   "cell_type": "code",
   "execution_count": 10,
   "metadata": {},
   "outputs": [
    {
     "data": {
      "text/plain": [
       "'                                                     11.MADELEINE\\nHome.\\nEXT. GRAVINA DI PUGLIA BRIDGE - EARLY MORNING 25 25\\nAs Bond crosses the ancient bridge spanning a deep ravine, a \\nsmall group of WIDOWED WOMEN veiled in black pass by.\\nBond looks up to an acropolis silhouetted in the morning sun.\\nEXT. ACROPOLIS, KIOSK - MORNING 26 26\\nBond approaches the kiosk.\\n<BOND>\\nBuongiorno. La tombe del Lynd .\\nAn OLD MAN, the caretaker, steps out to meet Bond. He barks \\nat a YOUNG BOY.\\nOLD MAN\\n\\nTake him to the Lynd grave.\\nThe boy waves to Bond to follow him.\\n<BOY>\\n\\nCome.\\nEXT. ACROPOLIS - MORNING 27 27\\nThe boy guides Bond to Vesper’s grave then hustles off \\nleaving Bond alone to face:\\nCU on a portrait of a beautiful WOMAN, dark hair, pale skin, \\nlight eyes: VESPER LYND 1983-2006.\\nThe image stings his eyes.\\n<BOND>\\nI miss you.\\nHe takes a piece of paper out of his pocket and lights it on \\nfire with a lighter. We see what he has written: Forgive Me. \\nThe embers fall to the ground.\\nThen...                                                     11.'"
      ]
     },
     "execution_count": 10,
     "metadata": {},
     "output_type": "execute_result"
    }
   ],
   "source": [
    "text_with_names"
   ]
  },
  {
   "cell_type": "code",
   "execution_count": 11,
   "metadata": {},
   "outputs": [
    {
     "name": "stdout",
     "output_type": "stream",
     "text": [
      "                                                     11.MADELEINE\n",
      "Home.\n",
      "EXT. GRAVINA DI PUGLIA BRIDGE - EARLY MORNING 25 25\n",
      "As Bond crosses the ancient bridge spanning a deep ravine, a \n",
      "small group of WIDOWED WOMEN veiled in black pass by.\n",
      "Bond looks up to an acropolis silhouetted in the morning sun.\n",
      "EXT. ACROPOLIS, KIOSK - MORNING 26 26\n",
      "Bond approaches the kiosk.\n",
      "<BOND>\n",
      "Buongiorno. La tombe del Lynd .\n",
      "An OLD MAN, the caretaker, steps out to meet Bond. He barks \n",
      "at a YOUNG BOY.\n",
      "OLD MAN\n",
      "\n",
      "Take him to the Lynd grave.\n",
      "The boy waves to Bond to follow him.\n",
      "<BOY>\n",
      "\n",
      "Come.\n",
      "EXT. ACROPOLIS - MORNING 27 27\n",
      "The boy guides Bond to Vesper’s grave then hustles off \n",
      "leaving Bond alone to face:\n",
      "CU on a portrait of a beautiful WOMAN, dark hair, pale skin, \n",
      "light eyes: VESPER LYND 1983-2006.\n",
      "The image stings his eyes.\n",
      "<BOND>\n",
      "I miss you.\n",
      "He takes a piece of paper out of his pocket and lights it on \n",
      "fire with a lighter. We see what he has written: Forgive Me. \n",
      "The embers fall to the ground.\n",
      "Then...                                                     11.\n"
     ]
    }
   ],
   "source": [
    "print(text_with_names)"
   ]
  },
  {
   "cell_type": "code",
   "execution_count": 12,
   "metadata": {},
   "outputs": [],
   "source": [
    "text_no_mid_sentence_newlines = re.sub(r'(?<![.?!])\\n(?!\\s)', ' ', text_with_names)"
   ]
  },
  {
   "cell_type": "code",
   "execution_count": 13,
   "metadata": {},
   "outputs": [
    {
     "name": "stdout",
     "output_type": "stream",
     "text": [
      "                                                     11.MADELEINE Home.\n",
      "EXT. GRAVINA DI PUGLIA BRIDGE - EARLY MORNING 25 25 As Bond crosses the ancient bridge spanning a deep ravine, a  small group of WIDOWED WOMEN veiled in black pass by.\n",
      "Bond looks up to an acropolis silhouetted in the morning sun.\n",
      "EXT. ACROPOLIS, KIOSK - MORNING 26 26 Bond approaches the kiosk.\n",
      "<BOND> Buongiorno. La tombe del Lynd .\n",
      "An OLD MAN, the caretaker, steps out to meet Bond. He barks  at a YOUNG BOY.\n",
      "OLD MAN\n",
      " Take him to the Lynd grave.\n",
      "The boy waves to Bond to follow him.\n",
      "<BOY>\n",
      " Come.\n",
      "EXT. ACROPOLIS - MORNING 27 27 The boy guides Bond to Vesper’s grave then hustles off  leaving Bond alone to face: CU on a portrait of a beautiful WOMAN, dark hair, pale skin,  light eyes: VESPER LYND 1983-2006.\n",
      "The image stings his eyes.\n",
      "<BOND> I miss you.\n",
      "He takes a piece of paper out of his pocket and lights it on  fire with a lighter. We see what he has written: Forgive Me.  The embers fall to the ground.\n",
      "Then...                                                     11.\n"
     ]
    }
   ],
   "source": [
    "print(text_no_mid_sentence_newlines)"
   ]
  },
  {
   "cell_type": "code",
   "execution_count": 14,
   "metadata": {},
   "outputs": [],
   "source": [
    "# Step 1: Remove newlines following a <NAME> pattern\n",
    "text_no_newlines_after_name = re.sub(r'(<[A-Z]+>)\\n', r'\\1', text_no_mid_sentence_newlines)"
   ]
  },
  {
   "cell_type": "code",
   "execution_count": 15,
   "metadata": {},
   "outputs": [
    {
     "name": "stdout",
     "output_type": "stream",
     "text": [
      "                                                     11.MADELEINE Home.\n",
      "EXT. GRAVINA DI PUGLIA BRIDGE - EARLY MORNING 25 25 As Bond crosses the ancient bridge spanning a deep ravine, a  small group of WIDOWED WOMEN veiled in black pass by.\n",
      "Bond looks up to an acropolis silhouetted in the morning sun.\n",
      "EXT. ACROPOLIS, KIOSK - MORNING 26 26 Bond approaches the kiosk.\n",
      "<BOND> Buongiorno. La tombe del Lynd .\n",
      "An OLD MAN, the caretaker, steps out to meet Bond. He barks  at a YOUNG BOY.\n",
      "OLD MAN\n",
      " Take him to the Lynd grave.\n",
      "The boy waves to Bond to follow him.\n",
      "<BOY> Come.\n",
      "EXT. ACROPOLIS - MORNING 27 27 The boy guides Bond to Vesper’s grave then hustles off  leaving Bond alone to face: CU on a portrait of a beautiful WOMAN, dark hair, pale skin,  light eyes: VESPER LYND 1983-2006.\n",
      "The image stings his eyes.\n",
      "<BOND> I miss you.\n",
      "He takes a piece of paper out of his pocket and lights it on  fire with a lighter. We see what he has written: Forgive Me.  The embers fall to the ground.\n",
      "Then...                                                     11.\n"
     ]
    }
   ],
   "source": [
    "print(text_no_newlines_after_name)"
   ]
  },
  {
   "cell_type": "code",
   "execution_count": 16,
   "metadata": {},
   "outputs": [],
   "source": [
    "# Step 1: Keep only the <NAME> followed by the dialogue up until the next newline\n",
    "text_only_name_dialouge = re.sub(r'(<[A-Z]+>.*?)\\n', r'\\1\\n', text_no_newlines_after_name)"
   ]
  },
  {
   "cell_type": "code",
   "execution_count": 17,
   "metadata": {},
   "outputs": [],
   "source": [
    "# Step 2: Remove everything except lines with <NAME> followed by text until newline\n",
    "# This regex keeps only the lines where there's a name followed by dialogue up to the newline\n",
    "text_spaces = re.sub(r'^(?!<.*?>).*$', '', text_only_name_dialouge, flags=re.M)"
   ]
  },
  {
   "cell_type": "code",
   "execution_count": 18,
   "metadata": {},
   "outputs": [],
   "source": [
    "# Step 3: Replace multiple spaces with a single space\n",
    "text_final = re.sub(r'\\s+', ' ', text_spaces)"
   ]
  },
  {
   "cell_type": "code",
   "execution_count": 19,
   "metadata": {},
   "outputs": [
    {
     "name": "stdout",
     "output_type": "stream",
     "text": [
      " <BOND> Buongiorno. La tombe del Lynd . <BOY> Come. <BOND> I miss you. \n"
     ]
    }
   ],
   "source": [
    "# Output the cleaned text\n",
    "print(text_final)"
   ]
  },
  {
   "cell_type": "code",
   "execution_count": 20,
   "metadata": {},
   "outputs": [],
   "source": [
    "# Step 4: Add a newline before each <NAME>\n",
    "text_final_with_newlines = re.sub(r'(<[A-Z]+>)', r'\\n\\1', text_final)"
   ]
  },
  {
   "cell_type": "code",
   "execution_count": 21,
   "metadata": {},
   "outputs": [
    {
     "name": "stdout",
     "output_type": "stream",
     "text": [
      " \n",
      "<BOND> Buongiorno. La tombe del Lynd . \n",
      "<BOY> Come. \n",
      "<BOND> I miss you. \n"
     ]
    }
   ],
   "source": [
    "print(text_final_with_newlines)"
   ]
  },
  {
   "cell_type": "code",
   "execution_count": 22,
   "metadata": {},
   "outputs": [],
   "source": [
    "# Step 5: Remove the last three characters if they contain a number (1 to 1000) followed by a dot\n",
    "text_final_no_last_number = re.sub(r'(\\d{1,3})\\.$', '', text_final_with_newlines)"
   ]
  },
  {
   "cell_type": "code",
   "execution_count": 23,
   "metadata": {},
   "outputs": [
    {
     "name": "stdout",
     "output_type": "stream",
     "text": [
      " \n",
      "<BOND> Buongiorno. La tombe del Lynd . \n",
      "<BOY> Come. \n",
      "<BOND> I miss you. \n"
     ]
    }
   ],
   "source": [
    "print(text_final_no_last_number)"
   ]
  }
 ],
 "metadata": {
  "kernelspec": {
   "display_name": "llm",
   "language": "python",
   "name": "python3"
  },
  "language_info": {
   "codemirror_mode": {
    "name": "ipython",
    "version": 3
   },
   "file_extension": ".py",
   "mimetype": "text/x-python",
   "name": "python",
   "nbconvert_exporter": "python",
   "pygments_lexer": "ipython3",
   "version": "3.12.7"
  }
 },
 "nbformat": 4,
 "nbformat_minor": 2
}
